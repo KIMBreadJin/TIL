{
 "cells": [
  {
   "cell_type": "code",
   "execution_count": 16,
   "id": "5691fe8b",
   "metadata": {},
   "outputs": [],
   "source": [
    "import requests\n",
    "from bs4 import BeautifulSoup\n",
    "import re"
   ]
  },
  {
   "cell_type": "code",
   "execution_count": 24,
   "id": "c2d62c1e",
   "metadata": {},
   "outputs": [],
   "source": [
    "url='http://www.naver.com'"
   ]
  },
  {
   "cell_type": "code",
   "execution_count": 26,
   "id": "8fbf36c2",
   "metadata": {},
   "outputs": [
    {
     "data": {
      "text/plain": [
       "<Response [200]>"
      ]
     },
     "execution_count": 26,
     "metadata": {},
     "output_type": "execute_result"
    }
   ],
   "source": [
    "response = requests.get(source_link)\n",
    "response"
   ]
  },
  {
   "cell_type": "code",
   "execution_count": 76,
   "id": "348b653e",
   "metadata": {},
   "outputs": [
    {
     "name": "stdout",
     "output_type": "stream",
     "text": [
      "메일\n",
      "카페\n",
      "블로그\n",
      "지식iN\n",
      "쇼핑\n",
      "쇼핑LIVE\n",
      "Pay\n",
      "TV\n"
     ]
    }
   ],
   "source": [
    "dict2 = {}\n",
    "if response.status_code == 200:\n",
    "    html = response.text\n",
    "    soup = BeautifulSoup(html, 'html.parser')\n",
    "    ul = soup.select_one('ul.list_nav')\n",
    "    titles = ul.select('li.nav_item > a')\n",
    "    for title in titles:\n",
    "        print(title.get_text())\n",
    "        key = title['data-clk']\n",
    "        dict2[key] = title.get_text()\n",
    "        \n",
    "else : \n",
    "    print(response.status_code)"
   ]
  },
  {
   "cell_type": "code",
   "execution_count": 72,
   "id": "a668c792",
   "metadata": {},
   "outputs": [
    {
     "name": "stdout",
     "output_type": "stream",
     "text": [
      "사전\n",
      "뉴스\n",
      "증권\n",
      "부동산\n",
      "지도\n",
      "VIBE\n",
      "책\n",
      "웹툰\n"
     ]
    }
   ],
   "source": [
    "dict3={}\n",
    "if response.status_code == 200:\n",
    "    html = response.text\n",
    "    soup = BeautifulSoup(html, 'html.parser')\n",
    "    ul = soup.select_one('ul.NM_FAVORITE_LIST')\n",
    "    titles = ul.select('li.nav_item > a')\n",
    "    for title in titles:\n",
    "        print(title.get_text())\n",
    "        key = title['data-clk']\n",
    "        dict3[key] = title.get_text()\n",
    "else : \n",
    "    print(response.status_code)"
   ]
  },
  {
   "cell_type": "code",
   "execution_count": 78,
   "id": "ccb85af0",
   "metadata": {},
   "outputs": [
    {
     "data": {
      "text/plain": [
       "[{'svc.mail': '메일',\n",
       "  'svc.cafe': '카페',\n",
       "  'svc.blog': '블로그',\n",
       "  'svc.kin': '지식iN',\n",
       "  'svc.shopping': '쇼핑',\n",
       "  'svc.shoppinglive': '쇼핑LIVE',\n",
       "  'svc.pay': 'Pay',\n",
       "  'svc.tvcast': 'TV'},\n",
       " {'svc.dic': '사전',\n",
       "  'svc.news': '뉴스',\n",
       "  'svc.stock': '증권',\n",
       "  'svc.land': '부동산',\n",
       "  'svc.map': '지도',\n",
       "  'svc.vibe': 'VIBE',\n",
       "  'svc.book': '책',\n",
       "  'svc.webtoon': '웹툰'}]"
      ]
     },
     "execution_count": 78,
     "metadata": {},
     "output_type": "execute_result"
    }
   ],
   "source": [
    "list1 = [dict2,dict3]\n",
    "list1"
   ]
  }
 ],
 "metadata": {
  "kernelspec": {
   "display_name": "Python 3",
   "language": "python",
   "name": "python3"
  },
  "language_info": {
   "codemirror_mode": {
    "name": "ipython",
    "version": 3
   },
   "file_extension": ".py",
   "mimetype": "text/x-python",
   "name": "python",
   "nbconvert_exporter": "python",
   "pygments_lexer": "ipython3",
   "version": "3.8.8"
  }
 },
 "nbformat": 4,
 "nbformat_minor": 5
}
