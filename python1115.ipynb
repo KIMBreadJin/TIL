{
 "cells": [
  {
   "cell_type": "code",
   "execution_count": 6,
   "id": "1081559c",
   "metadata": {},
   "outputs": [
    {
     "data": {
      "text/plain": [
       "'Life'"
      ]
     },
     "execution_count": 6,
     "metadata": {},
     "output_type": "execute_result"
    }
   ],
   "source": [
    "a=[1,2,['a','b',['Life','is']]]\n",
    "a[2][2][0]"
   ]
  },
  {
   "cell_type": "code",
   "execution_count": 34,
   "id": "195313c1",
   "metadata": {},
   "outputs": [
    {
     "data": {
      "text/plain": [
       "127"
      ]
     },
     "execution_count": 34,
     "metadata": {},
     "output_type": "execute_result"
    }
   ],
   "source": [
    "a=[[1,2,3,4,5],[2,3,4,5,6],[3,3,3,2,5,8],[11,11,23,23]] \n",
    "result = 0\n",
    "for i in a:\n",
    "    for j in i:\n",
    "       \n",
    "        result += j\n",
    "result"
   ]
  },
  {
   "cell_type": "code",
   "execution_count": 47,
   "id": "4195fdd4",
   "metadata": {},
   "outputs": [
    {
     "name": "stdout",
     "output_type": "stream",
     "text": [
      "15\n",
      "20\n",
      "24\n",
      "68\n"
     ]
    }
   ],
   "source": [
    "a=[[1,2,3,4,5],[2,3,4,5,6],[3,3,3,2,5,8],[11,11,23,23]] \n",
    "for i in a:\n",
    "    sum=0\n",
    "    for j in i:\n",
    "        sum+=j;\n",
    "    print(sum)"
   ]
  },
  {
   "cell_type": "markdown",
   "id": "83d8736e",
   "metadata": {},
   "source": [
    "## 튜플은 어떻게만들까?"
   ]
  },
  {
   "cell_type": "markdown",
   "id": "93a1f4a8",
   "metadata": {},
   "source": [
    "튜플은 몇가지 점을 제외하고 리스트(배열)과 거의 비슷하면 리스트와 다른점은 다음과 같습니다\n",
    "<ul>\n",
    "    <li>리스트는 [ ]로 둘러싸지만 튜플은()로 둘러싼다</li>\n",
    "    <li>리스트는 그값의 생성 삭제 수정이 가능하지만 튜플은 그 값을 변경할 수 없다</li>"
   ]
  },
  {
   "cell_type": "code",
   "execution_count": 50,
   "id": "e2ff388a",
   "metadata": {},
   "outputs": [
    {
     "data": {
      "text/plain": [
       "()"
      ]
     },
     "execution_count": 50,
     "metadata": {},
     "output_type": "execute_result"
    }
   ],
   "source": [
    "t1 =()\n",
    "t1"
   ]
  },
  {
   "cell_type": "code",
   "execution_count": 57,
   "id": "d254c31d",
   "metadata": {},
   "outputs": [
    {
     "data": {
      "text/plain": [
       "(1,)"
      ]
     },
     "execution_count": 57,
     "metadata": {},
     "output_type": "execute_result"
    }
   ],
   "source": [
    "t2=(1,)\n",
    "t2"
   ]
  },
  {
   "cell_type": "code",
   "execution_count": 52,
   "id": "90c43aa0",
   "metadata": {},
   "outputs": [],
   "source": [
    "t3=(1,2,3)"
   ]
  },
  {
   "cell_type": "code",
   "execution_count": 53,
   "id": "d31c9888",
   "metadata": {},
   "outputs": [],
   "source": [
    "t5=('a','b',('ab'),('cd'))"
   ]
  },
  {
   "cell_type": "code",
   "execution_count": 55,
   "id": "d7bde93c",
   "metadata": {},
   "outputs": [
    {
     "name": "stdout",
     "output_type": "stream",
     "text": [
      "a\n",
      "b\n",
      "ab\n",
      "cd\n"
     ]
    }
   ],
   "source": [
    "for i in t5:\n",
    "    print(i)"
   ]
  },
  {
   "cell_type": "code",
   "execution_count": 56,
   "id": "24880766",
   "metadata": {},
   "outputs": [
    {
     "name": "stdout",
     "output_type": "stream",
     "text": [
      "a\n",
      "b\n",
      "a\n",
      "b\n",
      "c\n",
      "d\n"
     ]
    }
   ],
   "source": [
    "for i in t5:\n",
    "    for j in i:\n",
    "        for k in j:\n",
    "            print(k)"
   ]
  },
  {
   "cell_type": "code",
   "execution_count": 58,
   "id": "d221a8e2",
   "metadata": {
    "scrolled": true
   },
   "outputs": [
    {
     "ename": "TypeError",
     "evalue": "'tuple' object does not support item assignment",
     "output_type": "error",
     "traceback": [
      "\u001b[1;31m---------------------------------------------------------------------------\u001b[0m",
      "\u001b[1;31mTypeError\u001b[0m                                 Traceback (most recent call last)",
      "\u001b[1;32m<ipython-input-58-4a7f4d0c62bd>\u001b[0m in \u001b[0;36m<module>\u001b[1;34m\u001b[0m\n\u001b[1;32m----> 1\u001b[1;33m \u001b[0mt5\u001b[0m\u001b[1;33m[\u001b[0m\u001b[1;36m0\u001b[0m\u001b[1;33m]\u001b[0m \u001b[1;33m=\u001b[0m\u001b[1;34m'd'\u001b[0m\u001b[1;33m\u001b[0m\u001b[1;33m\u001b[0m\u001b[0m\n\u001b[0m",
      "\u001b[1;31mTypeError\u001b[0m: 'tuple' object does not support item assignment"
     ]
    }
   ],
   "source": [
    "t5[0] ='d' #tuple 이므로 할당(변경)을 지원하지 않는다"
   ]
  },
  {
   "cell_type": "code",
   "execution_count": 59,
   "id": "a3f3caee",
   "metadata": {},
   "outputs": [
    {
     "data": {
      "text/plain": [
       "(1, 2, 'a', 'b', 3, 4)"
      ]
     },
     "execution_count": 59,
     "metadata": {},
     "output_type": "execute_result"
    }
   ],
   "source": [
    "t1=(1,2,'a','b')\n",
    "t2=(3,4)\n",
    "t1+t2 #튜플 더하기"
   ]
  },
  {
   "cell_type": "code",
   "execution_count": 65,
   "id": "7289d1c0",
   "metadata": {},
   "outputs": [
    {
     "data": {
      "text/plain": [
       "[1, 2, 3, 4, 3, 4, 5, 6]"
      ]
     },
     "execution_count": 65,
     "metadata": {},
     "output_type": "execute_result"
    }
   ],
   "source": [
    "l1=[1,2,3,4]\n",
    "l2=[3,4,5,6]\n",
    "l3=[2,1,1,-5]\n",
    "l1+l2 #리스트 더하기"
   ]
  },
  {
   "cell_type": "code",
   "execution_count": 66,
   "id": "7348df10",
   "metadata": {},
   "outputs": [
    {
     "data": {
      "text/plain": [
       "[6, 7, 9, 5]"
      ]
     },
     "execution_count": 66,
     "metadata": {},
     "output_type": "execute_result"
    }
   ],
   "source": [
    "[l1[i] +l2[i] +l3[i]for i in range(len(l1))]"
   ]
  },
  {
   "cell_type": "code",
   "execution_count": null,
   "id": "02a972fa",
   "metadata": {},
   "outputs": [],
   "source": [
    "import numpy"
   ]
  }
 ],
 "metadata": {
  "kernelspec": {
   "display_name": "Python 3",
   "language": "python",
   "name": "python3"
  },
  "language_info": {
   "codemirror_mode": {
    "name": "ipython",
    "version": 3
   },
   "file_extension": ".py",
   "mimetype": "text/x-python",
   "name": "python",
   "nbconvert_exporter": "python",
   "pygments_lexer": "ipython3",
   "version": "3.8.8"
  }
 },
 "nbformat": 4,
 "nbformat_minor": 5
}
