{
 "cells": [
  {
   "cell_type": "code",
   "execution_count": 13,
   "id": "6f490814",
   "metadata": {},
   "outputs": [],
   "source": [
    "import requests\n",
    "from bs4 import BeautifulSoup\n",
    "import re\n",
    "from pprint import pprint"
   ]
  },
  {
   "cell_type": "code",
   "execution_count": 3,
   "id": "0198f2d5",
   "metadata": {},
   "outputs": [],
   "source": [
    "url='https://news.naver.com/'"
   ]
  },
  {
   "cell_type": "code",
   "execution_count": 4,
   "id": "176c976b",
   "metadata": {},
   "outputs": [],
   "source": [
    "headers={'User-Agent':'Mozilla/5.0 (Windows NT 6.3; Win64; x64)AppleWebKit/537.36 (KHTML, like Gecko) Chrome/63.0.3239.132 Safari/537.36'}"
   ]
  },
  {
   "cell_type": "code",
   "execution_count": 5,
   "id": "46c0bf56",
   "metadata": {
    "scrolled": false
   },
   "outputs": [
    {
     "data": {
      "text/plain": [
       "<Response [200]>"
      ]
     },
     "execution_count": 5,
     "metadata": {},
     "output_type": "execute_result"
    }
   ],
   "source": [
    "response = requests.get(url,headers=headers)\n",
    "response"
   ]
  },
  {
   "cell_type": "code",
   "execution_count": 57,
   "id": "52c1b11d",
   "metadata": {},
   "outputs": [],
   "source": [
    "dict1 = {}\n",
    "if response.status_code == 200:\n",
    "    html = response.text\n",
    "    soup = BeautifulSoup(html, 'html.parser')\n",
    "    ul = soup.select_one('ul._rankingList')\n",
    "    values = ul.select('li > .list_text_wrap > .list_text > .list_text_inner > a.list_tit')\n",
    "    #pprint(values)\n",
    "    kul = soup.select_one('div.lnb_menu')\n",
    "    keys = kul.select('ul > li > a > span.tx')      \n",
    "    for keyi in keys:\n",
    "        dict1[keyi.get_text()] = values\n",
    " \n",
    "        \n",
    "else : \n",
    "    print(response.status_code)"
   ]
  },
  {
   "cell_type": "code",
   "execution_count": 58,
   "id": "a661bc39",
   "metadata": {},
   "outputs": [
    {
     "name": "stdout",
     "output_type": "stream",
     "text": [
      "{'IT/과학': [<a class=\"list_tit nclicks('rig.renws2')\" href=\"/main/ranking/read.naver?mode=LSD&amp;mid=shm&amp;sid1=001&amp;oid=437&amp;aid=0000282048&amp;rankingType=RANKING\">끝까지 마스크 안 벗은 김병찬…\"죄송하다\" 말만 반복했다</a>,\n",
      "           <a class=\"list_tit nclicks('rig.renws2')\" href=\"/main/ranking/read.naver?mode=LSD&amp;mid=shm&amp;sid1=001&amp;oid=056&amp;aid=0011165556&amp;rankingType=RANKING\">“위조? 할테면 해봐” 신형 전자여권 다음 달 본격 발급… …</a>,\n",
      "           <a class=\"list_tit nclicks('rig.renws2')\" href=\"/main/ranking/read.naver?mode=LSD&amp;mid=shm&amp;sid1=001&amp;oid=214&amp;aid=0001162662&amp;rankingType=RANKING\">병행수입 정품이라더니‥알고 보니 \"짝퉁\"</a>,\n",
      "           <a class=\"list_tit nclicks('rig.renws2')\" href=\"/main/ranking/read.naver?mode=LSD&amp;mid=shm&amp;sid1=001&amp;oid=011&amp;aid=0003990485&amp;rankingType=RANKING\">확 벌어진 격차···윤석열 43.7% vs 이재명 35.1 …</a>,\n",
      "           <a class=\"list_tit nclicks('rig.renws2')\" href=\"/main/ranking/read.naver?mode=LSD&amp;mid=shm&amp;sid1=001&amp;oid=009&amp;aid=0004885722&amp;rankingType=RANKING\">\"'아슬아슬' 옷 바꿨더니 매출 4배 뛰었다\"…팬케이크 파 …</a>],\n",
      " 'TV': [<a class=\"list_tit nclicks('rig.renws2')\" href=\"/main/ranking/read.naver?mode=LSD&amp;mid=shm&amp;sid1=001&amp;oid=437&amp;aid=0000282048&amp;rankingType=RANKING\">끝까지 마스크 안 벗은 김병찬…\"죄송하다\" 말만 반복했다</a>,\n",
      "        <a class=\"list_tit nclicks('rig.renws2')\" href=\"/main/ranking/read.naver?mode=LSD&amp;mid=shm&amp;sid1=001&amp;oid=056&amp;aid=0011165556&amp;rankingType=RANKING\">“위조? 할테면 해봐” 신형 전자여권 다음 달 본격 발급… …</a>,\n",
      "        <a class=\"list_tit nclicks('rig.renws2')\" href=\"/main/ranking/read.naver?mode=LSD&amp;mid=shm&amp;sid1=001&amp;oid=214&amp;aid=0001162662&amp;rankingType=RANKING\">병행수입 정품이라더니‥알고 보니 \"짝퉁\"</a>,\n",
      "        <a class=\"list_tit nclicks('rig.renws2')\" href=\"/main/ranking/read.naver?mode=LSD&amp;mid=shm&amp;sid1=001&amp;oid=011&amp;aid=0003990485&amp;rankingType=RANKING\">확 벌어진 격차···윤석열 43.7% vs 이재명 35.1 …</a>,\n",
      "        <a class=\"list_tit nclicks('rig.renws2')\" href=\"/main/ranking/read.naver?mode=LSD&amp;mid=shm&amp;sid1=001&amp;oid=009&amp;aid=0004885722&amp;rankingType=RANKING\">\"'아슬아슬' 옷 바꿨더니 매출 4배 뛰었다\"…팬케이크 파 …</a>],\n",
      " '경제': [<a class=\"list_tit nclicks('rig.renws2')\" href=\"/main/ranking/read.naver?mode=LSD&amp;mid=shm&amp;sid1=001&amp;oid=437&amp;aid=0000282048&amp;rankingType=RANKING\">끝까지 마스크 안 벗은 김병찬…\"죄송하다\" 말만 반복했다</a>,\n",
      "        <a class=\"list_tit nclicks('rig.renws2')\" href=\"/main/ranking/read.naver?mode=LSD&amp;mid=shm&amp;sid1=001&amp;oid=056&amp;aid=0011165556&amp;rankingType=RANKING\">“위조? 할테면 해봐” 신형 전자여권 다음 달 본격 발급… …</a>,\n",
      "        <a class=\"list_tit nclicks('rig.renws2')\" href=\"/main/ranking/read.naver?mode=LSD&amp;mid=shm&amp;sid1=001&amp;oid=214&amp;aid=0001162662&amp;rankingType=RANKING\">병행수입 정품이라더니‥알고 보니 \"짝퉁\"</a>,\n",
      "        <a class=\"list_tit nclicks('rig.renws2')\" href=\"/main/ranking/read.naver?mode=LSD&amp;mid=shm&amp;sid1=001&amp;oid=011&amp;aid=0003990485&amp;rankingType=RANKING\">확 벌어진 격차···윤석열 43.7% vs 이재명 35.1 …</a>,\n",
      "        <a class=\"list_tit nclicks('rig.renws2')\" href=\"/main/ranking/read.naver?mode=LSD&amp;mid=shm&amp;sid1=001&amp;oid=009&amp;aid=0004885722&amp;rankingType=RANKING\">\"'아슬아슬' 옷 바꿨더니 매출 4배 뛰었다\"…팬케이크 파 …</a>],\n",
      " '뉴스홈': [<a class=\"list_tit nclicks('rig.renws2')\" href=\"/main/ranking/read.naver?mode=LSD&amp;mid=shm&amp;sid1=001&amp;oid=437&amp;aid=0000282048&amp;rankingType=RANKING\">끝까지 마스크 안 벗은 김병찬…\"죄송하다\" 말만 반복했다</a>,\n",
      "         <a class=\"list_tit nclicks('rig.renws2')\" href=\"/main/ranking/read.naver?mode=LSD&amp;mid=shm&amp;sid1=001&amp;oid=056&amp;aid=0011165556&amp;rankingType=RANKING\">“위조? 할테면 해봐” 신형 전자여권 다음 달 본격 발급… …</a>,\n",
      "         <a class=\"list_tit nclicks('rig.renws2')\" href=\"/main/ranking/read.naver?mode=LSD&amp;mid=shm&amp;sid1=001&amp;oid=214&amp;aid=0001162662&amp;rankingType=RANKING\">병행수입 정품이라더니‥알고 보니 \"짝퉁\"</a>,\n",
      "         <a class=\"list_tit nclicks('rig.renws2')\" href=\"/main/ranking/read.naver?mode=LSD&amp;mid=shm&amp;sid1=001&amp;oid=011&amp;aid=0003990485&amp;rankingType=RANKING\">확 벌어진 격차···윤석열 43.7% vs 이재명 35.1 …</a>,\n",
      "         <a class=\"list_tit nclicks('rig.renws2')\" href=\"/main/ranking/read.naver?mode=LSD&amp;mid=shm&amp;sid1=001&amp;oid=009&amp;aid=0004885722&amp;rankingType=RANKING\">\"'아슬아슬' 옷 바꿨더니 매출 4배 뛰었다\"…팬케이크 파 …</a>],\n",
      " '랭킹뉴스': [<a class=\"list_tit nclicks('rig.renws2')\" href=\"/main/ranking/read.naver?mode=LSD&amp;mid=shm&amp;sid1=001&amp;oid=437&amp;aid=0000282048&amp;rankingType=RANKING\">끝까지 마스크 안 벗은 김병찬…\"죄송하다\" 말만 반복했다</a>,\n",
      "          <a class=\"list_tit nclicks('rig.renws2')\" href=\"/main/ranking/read.naver?mode=LSD&amp;mid=shm&amp;sid1=001&amp;oid=056&amp;aid=0011165556&amp;rankingType=RANKING\">“위조? 할테면 해봐” 신형 전자여권 다음 달 본격 발급… …</a>,\n",
      "          <a class=\"list_tit nclicks('rig.renws2')\" href=\"/main/ranking/read.naver?mode=LSD&amp;mid=shm&amp;sid1=001&amp;oid=214&amp;aid=0001162662&amp;rankingType=RANKING\">병행수입 정품이라더니‥알고 보니 \"짝퉁\"</a>,\n",
      "          <a class=\"list_tit nclicks('rig.renws2')\" href=\"/main/ranking/read.naver?mode=LSD&amp;mid=shm&amp;sid1=001&amp;oid=011&amp;aid=0003990485&amp;rankingType=RANKING\">확 벌어진 격차···윤석열 43.7% vs 이재명 35.1 …</a>,\n",
      "          <a class=\"list_tit nclicks('rig.renws2')\" href=\"/main/ranking/read.naver?mode=LSD&amp;mid=shm&amp;sid1=001&amp;oid=009&amp;aid=0004885722&amp;rankingType=RANKING\">\"'아슬아슬' 옷 바꿨더니 매출 4배 뛰었다\"…팬케이크 파 …</a>],\n",
      " '사회': [<a class=\"list_tit nclicks('rig.renws2')\" href=\"/main/ranking/read.naver?mode=LSD&amp;mid=shm&amp;sid1=001&amp;oid=437&amp;aid=0000282048&amp;rankingType=RANKING\">끝까지 마스크 안 벗은 김병찬…\"죄송하다\" 말만 반복했다</a>,\n",
      "        <a class=\"list_tit nclicks('rig.renws2')\" href=\"/main/ranking/read.naver?mode=LSD&amp;mid=shm&amp;sid1=001&amp;oid=056&amp;aid=0011165556&amp;rankingType=RANKING\">“위조? 할테면 해봐” 신형 전자여권 다음 달 본격 발급… …</a>,\n",
      "        <a class=\"list_tit nclicks('rig.renws2')\" href=\"/main/ranking/read.naver?mode=LSD&amp;mid=shm&amp;sid1=001&amp;oid=214&amp;aid=0001162662&amp;rankingType=RANKING\">병행수입 정품이라더니‥알고 보니 \"짝퉁\"</a>,\n",
      "        <a class=\"list_tit nclicks('rig.renws2')\" href=\"/main/ranking/read.naver?mode=LSD&amp;mid=shm&amp;sid1=001&amp;oid=011&amp;aid=0003990485&amp;rankingType=RANKING\">확 벌어진 격차···윤석열 43.7% vs 이재명 35.1 …</a>,\n",
      "        <a class=\"list_tit nclicks('rig.renws2')\" href=\"/main/ranking/read.naver?mode=LSD&amp;mid=shm&amp;sid1=001&amp;oid=009&amp;aid=0004885722&amp;rankingType=RANKING\">\"'아슬아슬' 옷 바꿨더니 매출 4배 뛰었다\"…팬케이크 파 …</a>],\n",
      " '생활/문화': [<a class=\"list_tit nclicks('rig.renws2')\" href=\"/main/ranking/read.naver?mode=LSD&amp;mid=shm&amp;sid1=001&amp;oid=437&amp;aid=0000282048&amp;rankingType=RANKING\">끝까지 마스크 안 벗은 김병찬…\"죄송하다\" 말만 반복했다</a>,\n",
      "           <a class=\"list_tit nclicks('rig.renws2')\" href=\"/main/ranking/read.naver?mode=LSD&amp;mid=shm&amp;sid1=001&amp;oid=056&amp;aid=0011165556&amp;rankingType=RANKING\">“위조? 할테면 해봐” 신형 전자여권 다음 달 본격 발급… …</a>,\n",
      "           <a class=\"list_tit nclicks('rig.renws2')\" href=\"/main/ranking/read.naver?mode=LSD&amp;mid=shm&amp;sid1=001&amp;oid=214&amp;aid=0001162662&amp;rankingType=RANKING\">병행수입 정품이라더니‥알고 보니 \"짝퉁\"</a>,\n",
      "           <a class=\"list_tit nclicks('rig.renws2')\" href=\"/main/ranking/read.naver?mode=LSD&amp;mid=shm&amp;sid1=001&amp;oid=011&amp;aid=0003990485&amp;rankingType=RANKING\">확 벌어진 격차···윤석열 43.7% vs 이재명 35.1 …</a>,\n",
      "           <a class=\"list_tit nclicks('rig.renws2')\" href=\"/main/ranking/read.naver?mode=LSD&amp;mid=shm&amp;sid1=001&amp;oid=009&amp;aid=0004885722&amp;rankingType=RANKING\">\"'아슬아슬' 옷 바꿨더니 매출 4배 뛰었다\"…팬케이크 파 …</a>],\n",
      " '세계': [<a class=\"list_tit nclicks('rig.renws2')\" href=\"/main/ranking/read.naver?mode=LSD&amp;mid=shm&amp;sid1=001&amp;oid=437&amp;aid=0000282048&amp;rankingType=RANKING\">끝까지 마스크 안 벗은 김병찬…\"죄송하다\" 말만 반복했다</a>,\n",
      "        <a class=\"list_tit nclicks('rig.renws2')\" href=\"/main/ranking/read.naver?mode=LSD&amp;mid=shm&amp;sid1=001&amp;oid=056&amp;aid=0011165556&amp;rankingType=RANKING\">“위조? 할테면 해봐” 신형 전자여권 다음 달 본격 발급… …</a>,\n",
      "        <a class=\"list_tit nclicks('rig.renws2')\" href=\"/main/ranking/read.naver?mode=LSD&amp;mid=shm&amp;sid1=001&amp;oid=214&amp;aid=0001162662&amp;rankingType=RANKING\">병행수입 정품이라더니‥알고 보니 \"짝퉁\"</a>,\n",
      "        <a class=\"list_tit nclicks('rig.renws2')\" href=\"/main/ranking/read.naver?mode=LSD&amp;mid=shm&amp;sid1=001&amp;oid=011&amp;aid=0003990485&amp;rankingType=RANKING\">확 벌어진 격차···윤석열 43.7% vs 이재명 35.1 …</a>,\n",
      "        <a class=\"list_tit nclicks('rig.renws2')\" href=\"/main/ranking/read.naver?mode=LSD&amp;mid=shm&amp;sid1=001&amp;oid=009&amp;aid=0004885722&amp;rankingType=RANKING\">\"'아슬아슬' 옷 바꿨더니 매출 4배 뛰었다\"…팬케이크 파 …</a>],\n",
      " '속보': [<a class=\"list_tit nclicks('rig.renws2')\" href=\"/main/ranking/read.naver?mode=LSD&amp;mid=shm&amp;sid1=001&amp;oid=437&amp;aid=0000282048&amp;rankingType=RANKING\">끝까지 마스크 안 벗은 김병찬…\"죄송하다\" 말만 반복했다</a>,\n",
      "        <a class=\"list_tit nclicks('rig.renws2')\" href=\"/main/ranking/read.naver?mode=LSD&amp;mid=shm&amp;sid1=001&amp;oid=056&amp;aid=0011165556&amp;rankingType=RANKING\">“위조? 할테면 해봐” 신형 전자여권 다음 달 본격 발급… …</a>,\n",
      "        <a class=\"list_tit nclicks('rig.renws2')\" href=\"/main/ranking/read.naver?mode=LSD&amp;mid=shm&amp;sid1=001&amp;oid=214&amp;aid=0001162662&amp;rankingType=RANKING\">병행수입 정품이라더니‥알고 보니 \"짝퉁\"</a>,\n",
      "        <a class=\"list_tit nclicks('rig.renws2')\" href=\"/main/ranking/read.naver?mode=LSD&amp;mid=shm&amp;sid1=001&amp;oid=011&amp;aid=0003990485&amp;rankingType=RANKING\">확 벌어진 격차···윤석열 43.7% vs 이재명 35.1 …</a>,\n",
      "        <a class=\"list_tit nclicks('rig.renws2')\" href=\"/main/ranking/read.naver?mode=LSD&amp;mid=shm&amp;sid1=001&amp;oid=009&amp;aid=0004885722&amp;rankingType=RANKING\">\"'아슬아슬' 옷 바꿨더니 매출 4배 뛰었다\"…팬케이크 파 …</a>],\n",
      " '오피니언': [<a class=\"list_tit nclicks('rig.renws2')\" href=\"/main/ranking/read.naver?mode=LSD&amp;mid=shm&amp;sid1=001&amp;oid=437&amp;aid=0000282048&amp;rankingType=RANKING\">끝까지 마스크 안 벗은 김병찬…\"죄송하다\" 말만 반복했다</a>,\n",
      "          <a class=\"list_tit nclicks('rig.renws2')\" href=\"/main/ranking/read.naver?mode=LSD&amp;mid=shm&amp;sid1=001&amp;oid=056&amp;aid=0011165556&amp;rankingType=RANKING\">“위조? 할테면 해봐” 신형 전자여권 다음 달 본격 발급… …</a>,\n",
      "          <a class=\"list_tit nclicks('rig.renws2')\" href=\"/main/ranking/read.naver?mode=LSD&amp;mid=shm&amp;sid1=001&amp;oid=214&amp;aid=0001162662&amp;rankingType=RANKING\">병행수입 정품이라더니‥알고 보니 \"짝퉁\"</a>,\n",
      "          <a class=\"list_tit nclicks('rig.renws2')\" href=\"/main/ranking/read.naver?mode=LSD&amp;mid=shm&amp;sid1=001&amp;oid=011&amp;aid=0003990485&amp;rankingType=RANKING\">확 벌어진 격차···윤석열 43.7% vs 이재명 35.1 …</a>,\n",
      "          <a class=\"list_tit nclicks('rig.renws2')\" href=\"/main/ranking/read.naver?mode=LSD&amp;mid=shm&amp;sid1=001&amp;oid=009&amp;aid=0004885722&amp;rankingType=RANKING\">\"'아슬아슬' 옷 바꿨더니 매출 4배 뛰었다\"…팬케이크 파 …</a>],\n",
      " '정치': [<a class=\"list_tit nclicks('rig.renws2')\" href=\"/main/ranking/read.naver?mode=LSD&amp;mid=shm&amp;sid1=001&amp;oid=437&amp;aid=0000282048&amp;rankingType=RANKING\">끝까지 마스크 안 벗은 김병찬…\"죄송하다\" 말만 반복했다</a>,\n",
      "        <a class=\"list_tit nclicks('rig.renws2')\" href=\"/main/ranking/read.naver?mode=LSD&amp;mid=shm&amp;sid1=001&amp;oid=056&amp;aid=0011165556&amp;rankingType=RANKING\">“위조? 할테면 해봐” 신형 전자여권 다음 달 본격 발급… …</a>,\n",
      "        <a class=\"list_tit nclicks('rig.renws2')\" href=\"/main/ranking/read.naver?mode=LSD&amp;mid=shm&amp;sid1=001&amp;oid=214&amp;aid=0001162662&amp;rankingType=RANKING\">병행수입 정품이라더니‥알고 보니 \"짝퉁\"</a>,\n",
      "        <a class=\"list_tit nclicks('rig.renws2')\" href=\"/main/ranking/read.naver?mode=LSD&amp;mid=shm&amp;sid1=001&amp;oid=011&amp;aid=0003990485&amp;rankingType=RANKING\">확 벌어진 격차···윤석열 43.7% vs 이재명 35.1 …</a>,\n",
      "        <a class=\"list_tit nclicks('rig.renws2')\" href=\"/main/ranking/read.naver?mode=LSD&amp;mid=shm&amp;sid1=001&amp;oid=009&amp;aid=0004885722&amp;rankingType=RANKING\">\"'아슬아슬' 옷 바꿨더니 매출 4배 뛰었다\"…팬케이크 파 …</a>],\n",
      " '포토': [<a class=\"list_tit nclicks('rig.renws2')\" href=\"/main/ranking/read.naver?mode=LSD&amp;mid=shm&amp;sid1=001&amp;oid=437&amp;aid=0000282048&amp;rankingType=RANKING\">끝까지 마스크 안 벗은 김병찬…\"죄송하다\" 말만 반복했다</a>,\n",
      "        <a class=\"list_tit nclicks('rig.renws2')\" href=\"/main/ranking/read.naver?mode=LSD&amp;mid=shm&amp;sid1=001&amp;oid=056&amp;aid=0011165556&amp;rankingType=RANKING\">“위조? 할테면 해봐” 신형 전자여권 다음 달 본격 발급… …</a>,\n",
      "        <a class=\"list_tit nclicks('rig.renws2')\" href=\"/main/ranking/read.naver?mode=LSD&amp;mid=shm&amp;sid1=001&amp;oid=214&amp;aid=0001162662&amp;rankingType=RANKING\">병행수입 정품이라더니‥알고 보니 \"짝퉁\"</a>,\n",
      "        <a class=\"list_tit nclicks('rig.renws2')\" href=\"/main/ranking/read.naver?mode=LSD&amp;mid=shm&amp;sid1=001&amp;oid=011&amp;aid=0003990485&amp;rankingType=RANKING\">확 벌어진 격차···윤석열 43.7% vs 이재명 35.1 …</a>,\n",
      "        <a class=\"list_tit nclicks('rig.renws2')\" href=\"/main/ranking/read.naver?mode=LSD&amp;mid=shm&amp;sid1=001&amp;oid=009&amp;aid=0004885722&amp;rankingType=RANKING\">\"'아슬아슬' 옷 바꿨더니 매출 4배 뛰었다\"…팬케이크 파 …</a>]}\n"
     ]
    }
   ],
   "source": [
    "pprint(dict1)"
   ]
  }
 ],
 "metadata": {
  "kernelspec": {
   "display_name": "Python 3",
   "language": "python",
   "name": "python3"
  },
  "language_info": {
   "codemirror_mode": {
    "name": "ipython",
    "version": 3
   },
   "file_extension": ".py",
   "mimetype": "text/x-python",
   "name": "python",
   "nbconvert_exporter": "python",
   "pygments_lexer": "ipython3",
   "version": "3.8.8"
  }
 },
 "nbformat": 4,
 "nbformat_minor": 5
}
