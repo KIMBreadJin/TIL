{
 "cells": [
  {
   "cell_type": "code",
   "execution_count": 101,
   "id": "5cbefde6",
   "metadata": {},
   "outputs": [],
   "source": [
    "class Person():\n",
    "    def __init__(self,a,b): #기본 생성자\n",
    "        self.a = a\n",
    "        self.b = b\n",
    "        pass\n",
    "    def sum(self,a,b): return a+b \n",
    "    def min(self,a,b): return a-b \n",
    "    def mul(self,a,b): return a*b \n",
    "    def dev(self,a,b): return a/b\n",
    "    def getMember(self):\n",
    "        return[self.a,self.b]"
   ]
  },
  {
   "cell_type": "code",
   "execution_count": 51,
   "id": "aa4d692c",
   "metadata": {},
   "outputs": [
    {
     "name": "stdout",
     "output_type": "stream",
     "text": [
      "4\n",
      "28\n"
     ]
    }
   ],
   "source": [
    "someone = Person(4) #객체 생성 완료\n",
    "print(someone.mul(4,7))"
   ]
  },
  {
   "cell_type": "code",
   "execution_count": 104,
   "id": "ecdfaaff",
   "metadata": {},
   "outputs": [
    {
     "name": "stdout",
     "output_type": "stream",
     "text": [
      "첫번째 숫자1\n",
      "두번째 숫자2\n",
      "1 2\n",
      "원하는 연산을 선택하세요1\n"
     ]
    },
    {
     "data": {
      "text/plain": [
       "3"
      ]
     },
     "execution_count": 104,
     "metadata": {},
     "output_type": "execute_result"
    }
   ],
   "source": [
    "def f(x):   \n",
    "    a = int(input('첫번째 숫자'))\n",
    "    b = int(input('두번째 숫자'))\n",
    "    print(a,b)\n",
    "    stuff = input('원하는 연산을 선택하세요')\n",
    "    return {'1':someone.sum(a,b), '2': someone.min(a,b), '3':someone.mul(a,b),'4':someone.dev(a,b)}[stuff]\n",
    "f(stuff)"
   ]
  },
  {
   "cell_type": "code",
   "execution_count": 102,
   "id": "67b72fd7",
   "metadata": {},
   "outputs": [
    {
     "name": "stdout",
     "output_type": "stream",
     "text": [
      "[4, 6]\n"
     ]
    }
   ],
   "source": [
    "someone = Person(4,6) # 객체 생성\n",
    "print(someone.getMember())"
   ]
  },
  {
   "cell_type": "code",
   "execution_count": 117,
   "id": "279f2346",
   "metadata": {},
   "outputs": [
    {
     "name": "stdout",
     "output_type": "stream",
     "text": [
      "108\n"
     ]
    }
   ],
   "source": [
    "class T(Person): # 상속\n",
    "    def sum(self,a,b): #override\n",
    "        return a*9+b;\n",
    "t= T(3,4);\n",
    "print(t.sum(11,9))"
   ]
  }
 ],
 "metadata": {
  "kernelspec": {
   "display_name": "Python 3",
   "language": "python",
   "name": "python3"
  },
  "language_info": {
   "codemirror_mode": {
    "name": "ipython",
    "version": 3
   },
   "file_extension": ".py",
   "mimetype": "text/x-python",
   "name": "python",
   "nbconvert_exporter": "python",
   "pygments_lexer": "ipython3",
   "version": "3.8.8"
  }
 },
 "nbformat": 4,
 "nbformat_minor": 5
}
