{
 "cells": [
  {
   "cell_type": "code",
   "execution_count": 8,
   "id": "e609484a",
   "metadata": {},
   "outputs": [
    {
     "data": {
      "text/plain": [
       "0"
      ]
     },
     "execution_count": 8,
     "metadata": {},
     "output_type": "execute_result"
    }
   ],
   "source": [
    "a=0;\n",
    "b=6;\n",
    "c= a and 5\n",
    "c"
   ]
  },
  {
   "cell_type": "code",
   "execution_count": 10,
   "id": "6c852e1b",
   "metadata": {},
   "outputs": [
    {
     "data": {
      "text/plain": [
       "5"
      ]
     },
     "execution_count": 10,
     "metadata": {},
     "output_type": "execute_result"
    }
   ],
   "source": [
    "a=1;\n",
    "b=6;\n",
    "c = a and 5\n",
    "c"
   ]
  },
  {
   "cell_type": "code",
   "execution_count": 5,
   "id": "86d65685",
   "metadata": {},
   "outputs": [
    {
     "data": {
      "text/plain": [
       "5"
      ]
     },
     "execution_count": 5,
     "metadata": {},
     "output_type": "execute_result"
    }
   ],
   "source": [
    "a=0;\n",
    "b=6\n",
    "c= a or 5\n",
    "c"
   ]
  },
  {
   "cell_type": "code",
   "execution_count": 6,
   "id": "ec6703f3",
   "metadata": {},
   "outputs": [
    {
     "data": {
      "text/plain": [
       "1"
      ]
     },
     "execution_count": 6,
     "metadata": {},
     "output_type": "execute_result"
    }
   ],
   "source": [
    "a=1;\n",
    "b=6\n",
    "c= a or 5\n",
    "c"
   ]
  },
  {
   "cell_type": "code",
   "execution_count": 12,
   "id": "39d8936f",
   "metadata": {},
   "outputs": [
    {
     "data": {
      "text/plain": [
       "False"
      ]
     },
     "execution_count": 12,
     "metadata": {},
     "output_type": "execute_result"
    }
   ],
   "source": [
    "False ^ False"
   ]
  },
  {
   "cell_type": "code",
   "execution_count": 38,
   "id": "b8c4abb6",
   "metadata": {},
   "outputs": [
    {
     "name": "stdout",
     "output_type": "stream",
     "text": [
      "중지하시려면 대문자 Q를 입력하세요q\n"
     ]
    }
   ],
   "source": [
    "list=[]  \n",
    "while True:\n",
    "    stuff=input(\"중지하시려면 대문자 Q를 입력하세요\")  \n",
    "    if (stuff == 'q'):break;\n",
    "    list.append(stuff)\n",
    "    for i in list:(\n",
    "        i\n",
    "    )\n",
    "   "
   ]
  },
  {
   "cell_type": "code",
   "execution_count": 49,
   "id": "1a200603",
   "metadata": {},
   "outputs": [
    {
     "name": "stdout",
     "output_type": "stream",
     "text": [
      "중지하시려면 대문자 Q를 입력하세요a\n",
      "중지하시려면 대문자 Q를 입력하세요s\n",
      "중지하시려면 대문자 Q를 입력하세요d\n",
      "중지하시려면 대문자 Q를 입력하세요s\n",
      "중지하시려면 대문자 Q를 입력하세요s\n",
      "중지하시려면 대문자 Q를 입력하세요d\n",
      "중지하시려면 대문자 Q를 입력하세요a\n",
      "중지하시려면 대문자 Q를 입력하세요ss\n",
      "중지하시려면 대문자 Q를 입력하세요d\n",
      "중지하시려면 대문자 Q를 입력하세요s\n",
      "중지하시려면 대문자 Q를 입력하세요d\n"
     ]
    }
   ],
   "source": [
    "list=[]\n",
    "def capital(i):\n",
    "    return i.capitalize()\n",
    "while True:\n",
    "    stuff=input(\"중지하시려면 대문자 Q를 입력하세요\")  \n",
    "    if (len(list) >= 10):break;\n",
    "    list.append(stuff)\n",
    "    for i in list:(\n",
    "        capital(i)\n",
    "    )"
   ]
  },
  {
   "cell_type": "code",
   "execution_count": 75,
   "id": "cd46f8b9",
   "metadata": {},
   "outputs": [
    {
     "name": "stdout",
     "output_type": "stream",
     "text": [
      "숫자 5개를 입력하세요1\n",
      "숫자 5개를 입력하세요2\n",
      "숫자 5개를 입력하세요3\n",
      "숫자 5개를 입력하세요4\n",
      "숫자 5개를 입력하세요5\n",
      "['1', '2', '3', '4', '5']\n",
      "15\n"
     ]
    }
   ],
   "source": [
    "list=[]\n",
    "sum = 0\n",
    "def capital(i):\n",
    "    return int(i)\n",
    "while True:\n",
    "    stuff=input(\"숫자 5개를 입력하세요\") \n",
    "    list.append(stuff)\n",
    "    if (len(list) == 5): break;\n",
    "    for i in list:\n",
    "        capital(i)\n",
    "print(list)\n",
    "for i in list:\n",
    "    sum = sum + capital(i)\n",
    "print(sum)"
   ]
  },
  {
   "cell_type": "code",
   "execution_count": 81,
   "id": "e230427d",
   "metadata": {},
   "outputs": [
    {
     "name": "stdout",
     "output_type": "stream",
     "text": [
      "Monday : drink - eat banana - enjoy tiramisu\n",
      "Tuesday : drink - eat orange - enjoy ice cream\n",
      "Wednesday : drink - eat peach - enjoy pie\n"
     ]
    }
   ],
   "source": [
    "#여러 시퀸스 순회하기(zip)\n",
    "days = ['Monday', 'Tuesday','Wednesday']\n",
    "fruits =['banana','orange','peach']\n",
    "drinks = ['coffee','tea','beer']\n",
    "desserts = ['tiramisu','ice cream', 'pie','pudding']\n",
    "for day,fruit, drink, dessert in zip (days, fruits, drinks, desserts):\n",
    "    print(day, \": drink\",\"- eat\",fruit, \"- enjoy\", dessert)"
   ]
  },
  {
   "cell_type": "code",
   "execution_count": 87,
   "id": "3a5bf2af",
   "metadata": {},
   "outputs": [],
   "source": [
    "import pandas as pd"
   ]
  },
  {
   "cell_type": "code",
   "execution_count": 88,
   "id": "0c697c9d",
   "metadata": {},
   "outputs": [
    {
     "ename": "TypeError",
     "evalue": "'list' object is not callable",
     "output_type": "error",
     "traceback": [
      "\u001b[1;31m---------------------------------------------------------------------------\u001b[0m",
      "\u001b[1;31mTypeError\u001b[0m                                 Traceback (most recent call last)",
      "\u001b[1;32m<ipython-input-88-f32c221e09f0>\u001b[0m in \u001b[0;36m<module>\u001b[1;34m\u001b[0m\n\u001b[0;32m      1\u001b[0m \u001b[0menglish\u001b[0m \u001b[1;33m=\u001b[0m \u001b[1;34m'Monday'\u001b[0m\u001b[1;33m,\u001b[0m \u001b[1;34m'Tuesday'\u001b[0m\u001b[1;33m,\u001b[0m \u001b[1;34m'wednesday'\u001b[0m\u001b[1;33m\u001b[0m\u001b[1;33m\u001b[0m\u001b[0m\n\u001b[0;32m      2\u001b[0m \u001b[0mfrench\u001b[0m \u001b[1;33m=\u001b[0m \u001b[1;34m'Lundi'\u001b[0m\u001b[1;33m,\u001b[0m \u001b[1;34m'Mardi'\u001b[0m\u001b[1;33m,\u001b[0m \u001b[1;34m'Merccredi'\u001b[0m\u001b[1;33m\u001b[0m\u001b[1;33m\u001b[0m\u001b[0m\n\u001b[1;32m----> 3\u001b[1;33m \u001b[0mprint\u001b[0m\u001b[1;33m(\u001b[0m\u001b[0mlist\u001b[0m\u001b[1;33m(\u001b[0m\u001b[0mzip\u001b[0m\u001b[1;33m(\u001b[0m\u001b[0menglish\u001b[0m\u001b[1;33m,\u001b[0m \u001b[0mfrench\u001b[0m\u001b[1;33m)\u001b[0m\u001b[1;33m)\u001b[0m\u001b[1;33m)\u001b[0m\u001b[1;33m\u001b[0m\u001b[1;33m\u001b[0m\u001b[0m\n\u001b[0m\u001b[0;32m      4\u001b[0m \u001b[0mprint\u001b[0m\u001b[1;33m(\u001b[0m\u001b[0mdict\u001b[0m\u001b[1;33m(\u001b[0m\u001b[0mzip\u001b[0m\u001b[1;33m(\u001b[0m\u001b[0menglish\u001b[0m\u001b[1;33m,\u001b[0m \u001b[0mfrench\u001b[0m\u001b[1;33m)\u001b[0m\u001b[1;33m)\u001b[0m\u001b[1;33m)\u001b[0m\u001b[1;33m\u001b[0m\u001b[1;33m\u001b[0m\u001b[0m\n",
      "\u001b[1;31mTypeError\u001b[0m: 'list' object is not callable"
     ]
    }
   ],
   "source": [
    "\n",
    "english = 'Monday', 'Tuesday', 'wednesday'\n",
    "french = 'Lundi', 'Mardi', 'Merccredi'\n",
    "print(list(zip(english, french)))\n",
    "print(dict(zip(english, french)))"
   ]
  }
 ],
 "metadata": {
  "kernelspec": {
   "display_name": "Python 3",
   "language": "python",
   "name": "python3"
  }
 },
 "nbformat": 4,
 "nbformat_minor": 5
}
