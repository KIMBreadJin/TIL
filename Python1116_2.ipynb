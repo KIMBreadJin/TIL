{
 "cells": [
  {
   "cell_type": "code",
   "execution_count": 1,
   "id": "445ead62",
   "metadata": {},
   "outputs": [],
   "source": [
    "import pandas as pd"
   ]
  },
  {
   "cell_type": "code",
   "execution_count": 4,
   "id": "d6d611eb",
   "metadata": {},
   "outputs": [
    {
     "name": "stdout",
     "output_type": "stream",
     "text": [
      "Monday : drink - eat banana - enjoy tiramisu\n",
      "Tuesday : drink - eat orange - enjoy ice cream\n",
      "Wednesday : drink - eat peach - enjoy pie\n"
     ]
    }
   ],
   "source": [
    "days = ['Monday', 'Tuesday','Wednesday']\n",
    "fruits =['banana','orange','peach']\n",
    "drinks = ['coffee','tea','beer']\n",
    "desserts = ['tiramisu','ice cream', 'pie','pudding']\n",
    "for day,fruit, drink, dessert in zip (days, fruits, drinks, desserts):\n",
    "    print(day, \": drink\",\"- eat\",fruit, \"- enjoy\", dessert)"
   ]
  },
  {
   "cell_type": "code",
   "execution_count": 2,
   "id": "5277d520",
   "metadata": {},
   "outputs": [
    {
     "name": "stdout",
     "output_type": "stream",
     "text": [
      "[('Monday', 'Lundi'), ('Tuesday', 'Mardi'), ('wednesday', 'Merccredi')]\n",
      "{'Monday': 'Lundi', 'Tuesday': 'Mardi', 'wednesday': 'Merccredi'}\n"
     ]
    }
   ],
   "source": [
    "english = 'Monday', 'Tuesday', 'wednesday'\n",
    "french = 'Lundi', 'Mardi', 'Merccredi'\n",
    "print(list(zip(english, french)))\n",
    "print(dict(zip(english, french)))"
   ]
  },
  {
   "cell_type": "code",
   "execution_count": 7,
   "id": "484bdc63",
   "metadata": {},
   "outputs": [
    {
     "name": "stdout",
     "output_type": "stream",
     "text": [
      "0 Monday\n",
      "1 Tuesday\n",
      "2 Wednesday\n"
     ]
    }
   ],
   "source": [
    "for i,j in enumerate(days):\n",
    "    print(i,j)"
   ]
  },
  {
   "cell_type": "code",
   "execution_count": 12,
   "id": "ed375763",
   "metadata": {},
   "outputs": [
    {
     "name": "stdout",
     "output_type": "stream",
     "text": [
      "2\n",
      "4\n",
      "6\n",
      "8\n",
      "10\n"
     ]
    }
   ],
   "source": [
    "def re(j):\n",
    "    return [i*3 for i in j];\n",
    "a= map(lambda i:i*2,[1,2,3,4,5])\n",
    "for i in a:\n",
    "    print(i)"
   ]
  },
  {
   "cell_type": "code",
   "execution_count": 13,
   "id": "6768b46d",
   "metadata": {},
   "outputs": [
    {
     "name": "stdout",
     "output_type": "stream",
     "text": [
      "2\n",
      "6\n"
     ]
    }
   ],
   "source": [
    "b= filter(lambda i:i%2==0, [2,3,5,6,7,9])\n",
    "for i in b:\n",
    "    print(i)"
   ]
  },
  {
   "cell_type": "code",
   "execution_count": 15,
   "id": "0feae124",
   "metadata": {},
   "outputs": [
    {
     "name": "stdout",
     "output_type": "stream",
     "text": [
      "[1, 2, 3, 4, 5]\n",
      "1 1\n",
      "1 2\n",
      "2 1\n",
      "2 2\n",
      "3 1\n",
      "3 2\n"
     ]
    }
   ],
   "source": [
    "# list comprehension 타입\n",
    "number_list = [i for i in range(1,6)]\n",
    "print(number_list)\n",
    "rows = range(1,4)\n",
    "cols = range(1,3)\n",
    "for row in rows:\n",
    "    for col in cols:\n",
    "        print(row,col)"
   ]
  },
  {
   "cell_type": "code",
   "execution_count": 18,
   "id": "327bc9ac",
   "metadata": {},
   "outputs": [
    {
     "name": "stdout",
     "output_type": "stream",
     "text": [
      "(1, 1)\n",
      "(1, 2)\n",
      "(2, 1)\n",
      "(2, 2)\n",
      "(3, 1)\n",
      "(3, 2)\n"
     ]
    }
   ],
   "source": [
    "# list comprehension 타입\n",
    "cells = [(row,col) for row in rows for col in cols]\n",
    "for cell in cells:\n",
    "    print(cell)\n"
   ]
  },
  {
   "cell_type": "code",
   "execution_count": 19,
   "id": "c7107a6e",
   "metadata": {},
   "outputs": [
    {
     "name": "stdout",
     "output_type": "stream",
     "text": [
      "{'l': 1, 'e': 2, 't': 2, 'r': 1, 's': 1}\n"
     ]
    }
   ],
   "source": [
    "#딕셔너리 컴프리핸션\n",
    "word = 'letters'\n",
    "letter_counts = { letter:word.count(letter) for letter in word}\n",
    "print(letter_counts)"
   ]
  },
  {
   "cell_type": "code",
   "execution_count": 49,
   "id": "4160591d",
   "metadata": {},
   "outputs": [
    {
     "data": {
      "text/plain": [
       "{'그린1': 1, '그린2': 2, '그린3': 3, '그린4': 4, '그린5': 5}"
      ]
     },
     "execution_count": 49,
     "metadata": {},
     "output_type": "execute_result"
    }
   ],
   "source": [
    "dict1 = {'그린' + str(i):i for i in range(1,6)}\n",
    "dict1"
   ]
  },
  {
   "cell_type": "code",
   "execution_count": 56,
   "id": "2ab27075",
   "metadata": {},
   "outputs": [
    {
     "name": "stdout",
     "output_type": "stream",
     "text": [
      "['그린1', '레드2', '블루3', '초록4']\n"
     ]
    }
   ],
   "source": [
    "def ttt(a,b):\n",
    "    return [str(a[i]) + str(b[i]) for i in range(len(a))]\n",
    "result = []\n",
    "result = ttt(['그린','레드','블루','초록'],[1,2,3,4])\n",
    "\n",
    "print(result)\n",
    "\n"
   ]
  },
  {
   "cell_type": "code",
   "execution_count": 66,
   "id": "6ef8f8e1",
   "metadata": {},
   "outputs": [
    {
     "name": "stdout",
     "output_type": "stream",
     "text": [
      "['그린1', '레드2', '블루3', '초록4']\n"
     ]
    }
   ],
   "source": [
    "def ttt(i,j):\n",
    "    return [str(x)+str(y) for x,y in zip(i,j)]\n",
    "\n",
    "result = ttt(['그린','레드','블루','초록'],[1,2,3,4])\n",
    "\n",
    "print(result)"
   ]
  },
  {
   "cell_type": "code",
   "execution_count": 71,
   "id": "592bbaf2",
   "metadata": {},
   "outputs": [
    {
     "name": "stdout",
     "output_type": "stream",
     "text": [
      "{'wine': 'chardonny', 'entree': 'chicken', 'dessert': 'cake'}\n"
     ]
    }
   ],
   "source": [
    "def menu(a,b, c):\n",
    "    return {'wine':a, 'entree':b,'dessert':c}\n",
    "print(menu('chardonny', 'chicken', 'cake'))"
   ]
  },
  {
   "cell_type": "code",
   "execution_count": 69,
   "id": "9ba31963",
   "metadata": {},
   "outputs": [
    {
     "data": {
      "text/plain": [
       "{'wine': 'bordeaux', 'entree': 'beef', 'dessert': 'bagel'}"
      ]
     },
     "execution_count": 69,
     "metadata": {},
     "output_type": "execute_result"
    }
   ],
   "source": [
    "#키워드 인자\n",
    "def menu1(wine='bordeaux',entree='beef', dessert = 'bagel'):\n",
    "    return {'wine':'bordeaux','entree' : 'beef', 'dessert':'bagel'}\n",
    "menu1('frontennac', dessert='flan',entree='fish')"
   ]
  },
  {
   "cell_type": "code",
   "execution_count": 72,
   "id": "a08240d3",
   "metadata": {},
   "outputs": [
    {
     "name": "stdout",
     "output_type": "stream",
     "text": [
      "Positional argument tuple: ()\n",
      "Positional argument tuple: (3, 2, 1, 'wait!', 'uh...')\n"
     ]
    }
   ],
   "source": [
    "def print_args(*args):\n",
    "    print(\"Positional argument tuple:\",args)\n",
    "print_args()\n",
    "print_args(3,2,1,'wait!', 'uh...')"
   ]
  },
  {
   "cell_type": "code",
   "execution_count": 73,
   "id": "60e923b9",
   "metadata": {},
   "outputs": [
    {
     "name": "stdout",
     "output_type": "stream",
     "text": [
      "Positional argument tuple:a=  3 b= 2 (1, 'wait!', 'uh....')\n"
     ]
    }
   ],
   "source": [
    "def print_args1(a,b, *args):\n",
    "    print(\"Positional argument tuple:a= \",a,'b=', b, args)\n",
    "print_args1(3,2,1, 'wait!', 'uh....')"
   ]
  },
  {
   "cell_type": "code",
   "execution_count": 74,
   "id": "6a462f5d",
   "metadata": {},
   "outputs": [
    {
     "name": "stdout",
     "output_type": "stream",
     "text": [
      "Help on function echo in module __main__:\n",
      "\n",
      "echo(anything)\n",
      "    echo returns its input argument\n",
      "\n"
     ]
    }
   ],
   "source": [
    "#docstring\n",
    "def echo(anything):\n",
    "    'echo returns its input argument'\n",
    "    return anything\n",
    "help(echo)"
   ]
  },
  {
   "cell_type": "code",
   "execution_count": 297,
   "id": "01573bbd",
   "metadata": {},
   "outputs": [],
   "source": [
    "def add_args(args):\n",
    "    print(args)\n",
    "    return sum(args)"
   ]
  },
  {
   "cell_type": "code",
   "execution_count": 156,
   "id": "7bb46689",
   "metadata": {},
   "outputs": [
    {
     "data": {
      "text/plain": [
       "49"
      ]
     },
     "execution_count": 156,
     "metadata": {},
     "output_type": "execute_result"
    }
   ],
   "source": [
    "def run_something_with_args(func,*args):\n",
    "    \n",
    "    return func(*args)\n",
    "\n",
    "run_something_with_args(add_args,5,9,12,23)"
   ]
  },
  {
   "cell_type": "code",
   "execution_count": 298,
   "id": "c2b48486",
   "metadata": {},
   "outputs": [
    {
     "name": "stdout",
     "output_type": "stream",
     "text": [
      "1) [10, 18, 36, 46]\n",
      "[10, 18, 36, 46]\n"
     ]
    },
    {
     "data": {
      "text/plain": [
       "110"
      ]
     },
     "execution_count": 298,
     "metadata": {},
     "output_type": "execute_result"
    }
   ],
   "source": [
    "def run_something_with_args(func,*args):\n",
    "    result = [i*3 if(i%2==0) else i*2 for i in args]\n",
    "    print(\"1)\", result)\n",
    "    return func(result)\n",
    "run_something_with_args(add_args,5,9,12,23)"
   ]
  },
  {
   "cell_type": "code",
   "execution_count": null,
   "id": "388fdf90",
   "metadata": {},
   "outputs": [],
   "source": []
  },
  {
   "cell_type": "code",
   "execution_count": null,
   "id": "1803990d",
   "metadata": {},
   "outputs": [],
   "source": []
  }
 ],
 "metadata": {
  "kernelspec": {
   "display_name": "Python 3",
   "language": "python",
   "name": "python3"
  },
  "language_info": {
   "codemirror_mode": {
    "name": "ipython",
    "version": 3
   },
   "file_extension": ".py",
   "mimetype": "text/x-python",
   "name": "python",
   "nbconvert_exporter": "python",
   "pygments_lexer": "ipython3",
   "version": "3.8.8"
  }
 },
 "nbformat": 4,
 "nbformat_minor": 5
}
